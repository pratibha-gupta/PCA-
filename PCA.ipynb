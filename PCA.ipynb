{
 "cells": [
  {
   "cell_type": "markdown",
   "metadata": {},
   "source": [
    "# Principal Component Analysis"
   ]
  },
  {
   "cell_type": "markdown",
   "metadata": {},
   "source": [
    "Principal Component Analysis (PCA)is a dimensionality reduction algorithm which uses Singular value decomposition(SVD) to get principal component.It is unsupervised method.In it we assume that if a variable has more varience then it has more information."
   ]
  },
  {
   "cell_type": "code",
   "execution_count": 1,
   "metadata": {},
   "outputs": [],
   "source": [
    "import numpy as np\n",
    "import pandas as pd\n",
    "import matplotlib.pyplot as plt\n",
    "import seaborn as sns"
   ]
  },
  {
   "cell_type": "code",
   "execution_count": 2,
   "metadata": {},
   "outputs": [],
   "source": [
    "data  = pd.read_csv(r\"C:\\Users\\PRATIBHA GUPTA\\AppData\\Roaming\\jupyter\\Pizza.csv\")"
   ]
  },
  {
   "cell_type": "code",
   "execution_count": 3,
   "metadata": {},
   "outputs": [
    {
     "data": {
      "text/plain": [
       "(300, 9)"
      ]
     },
     "execution_count": 3,
     "metadata": {},
     "output_type": "execute_result"
    }
   ],
   "source": [
    "data.shape"
   ]
  },
  {
   "cell_type": "code",
   "execution_count": 4,
   "metadata": {},
   "outputs": [
    {
     "data": {
      "text/html": [
       "<div>\n",
       "<style scoped>\n",
       "    .dataframe tbody tr th:only-of-type {\n",
       "        vertical-align: middle;\n",
       "    }\n",
       "\n",
       "    .dataframe tbody tr th {\n",
       "        vertical-align: top;\n",
       "    }\n",
       "\n",
       "    .dataframe thead th {\n",
       "        text-align: right;\n",
       "    }\n",
       "</style>\n",
       "<table border=\"1\" class=\"dataframe\">\n",
       "  <thead>\n",
       "    <tr style=\"text-align: right;\">\n",
       "      <th></th>\n",
       "      <th>brand</th>\n",
       "      <th>id</th>\n",
       "      <th>mois</th>\n",
       "      <th>prot</th>\n",
       "      <th>fat</th>\n",
       "      <th>ash</th>\n",
       "      <th>sodium</th>\n",
       "      <th>carb</th>\n",
       "      <th>cal</th>\n",
       "    </tr>\n",
       "  </thead>\n",
       "  <tbody>\n",
       "    <tr>\n",
       "      <th>0</th>\n",
       "      <td>A</td>\n",
       "      <td>14069</td>\n",
       "      <td>27.82</td>\n",
       "      <td>21.43</td>\n",
       "      <td>44.87</td>\n",
       "      <td>5.11</td>\n",
       "      <td>1.77</td>\n",
       "      <td>0.77</td>\n",
       "      <td>4.93</td>\n",
       "    </tr>\n",
       "    <tr>\n",
       "      <th>1</th>\n",
       "      <td>A</td>\n",
       "      <td>14053</td>\n",
       "      <td>28.49</td>\n",
       "      <td>21.26</td>\n",
       "      <td>43.89</td>\n",
       "      <td>5.34</td>\n",
       "      <td>1.79</td>\n",
       "      <td>1.02</td>\n",
       "      <td>4.84</td>\n",
       "    </tr>\n",
       "    <tr>\n",
       "      <th>2</th>\n",
       "      <td>A</td>\n",
       "      <td>14025</td>\n",
       "      <td>28.35</td>\n",
       "      <td>19.99</td>\n",
       "      <td>45.78</td>\n",
       "      <td>5.08</td>\n",
       "      <td>1.63</td>\n",
       "      <td>0.80</td>\n",
       "      <td>4.95</td>\n",
       "    </tr>\n",
       "    <tr>\n",
       "      <th>3</th>\n",
       "      <td>A</td>\n",
       "      <td>14016</td>\n",
       "      <td>30.55</td>\n",
       "      <td>20.15</td>\n",
       "      <td>43.13</td>\n",
       "      <td>4.79</td>\n",
       "      <td>1.61</td>\n",
       "      <td>1.38</td>\n",
       "      <td>4.74</td>\n",
       "    </tr>\n",
       "    <tr>\n",
       "      <th>4</th>\n",
       "      <td>A</td>\n",
       "      <td>14005</td>\n",
       "      <td>30.49</td>\n",
       "      <td>21.28</td>\n",
       "      <td>41.65</td>\n",
       "      <td>4.82</td>\n",
       "      <td>1.64</td>\n",
       "      <td>1.76</td>\n",
       "      <td>4.67</td>\n",
       "    </tr>\n",
       "  </tbody>\n",
       "</table>\n",
       "</div>"
      ],
      "text/plain": [
       "  brand     id   mois   prot    fat   ash  sodium  carb   cal\n",
       "0     A  14069  27.82  21.43  44.87  5.11    1.77  0.77  4.93\n",
       "1     A  14053  28.49  21.26  43.89  5.34    1.79  1.02  4.84\n",
       "2     A  14025  28.35  19.99  45.78  5.08    1.63  0.80  4.95\n",
       "3     A  14016  30.55  20.15  43.13  4.79    1.61  1.38  4.74\n",
       "4     A  14005  30.49  21.28  41.65  4.82    1.64  1.76  4.67"
      ]
     },
     "execution_count": 4,
     "metadata": {},
     "output_type": "execute_result"
    }
   ],
   "source": [
    "data.head()"
   ]
  },
  {
   "cell_type": "code",
   "execution_count": 5,
   "metadata": {},
   "outputs": [
    {
     "data": {
      "text/html": [
       "<div>\n",
       "<style scoped>\n",
       "    .dataframe tbody tr th:only-of-type {\n",
       "        vertical-align: middle;\n",
       "    }\n",
       "\n",
       "    .dataframe tbody tr th {\n",
       "        vertical-align: top;\n",
       "    }\n",
       "\n",
       "    .dataframe thead th {\n",
       "        text-align: right;\n",
       "    }\n",
       "</style>\n",
       "<table border=\"1\" class=\"dataframe\">\n",
       "  <thead>\n",
       "    <tr style=\"text-align: right;\">\n",
       "      <th></th>\n",
       "      <th>id</th>\n",
       "      <th>mois</th>\n",
       "      <th>prot</th>\n",
       "      <th>fat</th>\n",
       "      <th>ash</th>\n",
       "      <th>sodium</th>\n",
       "      <th>carb</th>\n",
       "      <th>cal</th>\n",
       "    </tr>\n",
       "  </thead>\n",
       "  <tbody>\n",
       "    <tr>\n",
       "      <th>count</th>\n",
       "      <td>300.000000</td>\n",
       "      <td>300.000000</td>\n",
       "      <td>300.000000</td>\n",
       "      <td>300.000000</td>\n",
       "      <td>300.000000</td>\n",
       "      <td>300.000000</td>\n",
       "      <td>300.000000</td>\n",
       "      <td>300.000000</td>\n",
       "    </tr>\n",
       "    <tr>\n",
       "      <th>mean</th>\n",
       "      <td>20841.040000</td>\n",
       "      <td>40.903067</td>\n",
       "      <td>13.373567</td>\n",
       "      <td>20.229533</td>\n",
       "      <td>2.633233</td>\n",
       "      <td>0.669400</td>\n",
       "      <td>22.864767</td>\n",
       "      <td>3.271000</td>\n",
       "    </tr>\n",
       "    <tr>\n",
       "      <th>std</th>\n",
       "      <td>6962.917222</td>\n",
       "      <td>9.552987</td>\n",
       "      <td>6.434392</td>\n",
       "      <td>8.975658</td>\n",
       "      <td>1.269724</td>\n",
       "      <td>0.370358</td>\n",
       "      <td>18.029722</td>\n",
       "      <td>0.620034</td>\n",
       "    </tr>\n",
       "    <tr>\n",
       "      <th>min</th>\n",
       "      <td>14003.000000</td>\n",
       "      <td>25.000000</td>\n",
       "      <td>6.980000</td>\n",
       "      <td>4.380000</td>\n",
       "      <td>1.170000</td>\n",
       "      <td>0.250000</td>\n",
       "      <td>0.510000</td>\n",
       "      <td>2.180000</td>\n",
       "    </tr>\n",
       "    <tr>\n",
       "      <th>25%</th>\n",
       "      <td>14093.750000</td>\n",
       "      <td>30.902500</td>\n",
       "      <td>8.060000</td>\n",
       "      <td>14.770000</td>\n",
       "      <td>1.450000</td>\n",
       "      <td>0.450000</td>\n",
       "      <td>3.467500</td>\n",
       "      <td>2.910000</td>\n",
       "    </tr>\n",
       "    <tr>\n",
       "      <th>50%</th>\n",
       "      <td>24020.500000</td>\n",
       "      <td>43.300000</td>\n",
       "      <td>10.440000</td>\n",
       "      <td>17.135000</td>\n",
       "      <td>2.225000</td>\n",
       "      <td>0.490000</td>\n",
       "      <td>23.245000</td>\n",
       "      <td>3.215000</td>\n",
       "    </tr>\n",
       "    <tr>\n",
       "      <th>75%</th>\n",
       "      <td>24110.250000</td>\n",
       "      <td>49.115000</td>\n",
       "      <td>20.022500</td>\n",
       "      <td>21.435000</td>\n",
       "      <td>3.592500</td>\n",
       "      <td>0.702500</td>\n",
       "      <td>41.337500</td>\n",
       "      <td>3.520000</td>\n",
       "    </tr>\n",
       "    <tr>\n",
       "      <th>max</th>\n",
       "      <td>34045.000000</td>\n",
       "      <td>57.220000</td>\n",
       "      <td>28.480000</td>\n",
       "      <td>47.200000</td>\n",
       "      <td>5.430000</td>\n",
       "      <td>1.790000</td>\n",
       "      <td>48.640000</td>\n",
       "      <td>5.080000</td>\n",
       "    </tr>\n",
       "  </tbody>\n",
       "</table>\n",
       "</div>"
      ],
      "text/plain": [
       "                 id        mois        prot         fat         ash  \\\n",
       "count    300.000000  300.000000  300.000000  300.000000  300.000000   \n",
       "mean   20841.040000   40.903067   13.373567   20.229533    2.633233   \n",
       "std     6962.917222    9.552987    6.434392    8.975658    1.269724   \n",
       "min    14003.000000   25.000000    6.980000    4.380000    1.170000   \n",
       "25%    14093.750000   30.902500    8.060000   14.770000    1.450000   \n",
       "50%    24020.500000   43.300000   10.440000   17.135000    2.225000   \n",
       "75%    24110.250000   49.115000   20.022500   21.435000    3.592500   \n",
       "max    34045.000000   57.220000   28.480000   47.200000    5.430000   \n",
       "\n",
       "           sodium        carb         cal  \n",
       "count  300.000000  300.000000  300.000000  \n",
       "mean     0.669400   22.864767    3.271000  \n",
       "std      0.370358   18.029722    0.620034  \n",
       "min      0.250000    0.510000    2.180000  \n",
       "25%      0.450000    3.467500    2.910000  \n",
       "50%      0.490000   23.245000    3.215000  \n",
       "75%      0.702500   41.337500    3.520000  \n",
       "max      1.790000   48.640000    5.080000  "
      ]
     },
     "execution_count": 5,
     "metadata": {},
     "output_type": "execute_result"
    }
   ],
   "source": [
    "data.describe()"
   ]
  },
  {
   "cell_type": "code",
   "execution_count": 7,
   "metadata": {},
   "outputs": [],
   "source": [
    "df = data.iloc[ : , 2:]\n",
    "from sklearn.preprocessing import StandardScaler\n",
    "scaled_df = StandardScaler().fit_transform(df)\n"
   ]
  },
  {
   "cell_type": "code",
   "execution_count": 11,
   "metadata": {},
   "outputs": [
    {
     "data": {
      "text/plain": [
       "array([[-1.37181459,  1.25418127,  2.74984143, ...,  2.97668662,\n",
       "        -1.22751105,  2.68012924],\n",
       "       [-1.30156227,  1.22771661,  2.64047481, ...,  3.03077869,\n",
       "        -1.21362189,  2.53473344],\n",
       "       [-1.31624186,  1.03000998,  2.85139615, ...,  2.59804213,\n",
       "        -1.22584435,  2.71243942],\n",
       "       ...,\n",
       "       [ 0.3823963 , -0.36794707, -0.46866201, ..., -0.07951534,\n",
       "         0.1730719 , -0.56704362],\n",
       "       [ 0.70220164, -0.45823828, -0.56352082, ..., -0.29588362,\n",
       "         0.08918137, -0.82552504],\n",
       "       [ 0.62251244, -0.53918903, -0.52780927, ..., -0.26883759,\n",
       "         0.14529358, -0.7447496 ]])"
      ]
     },
     "execution_count": 11,
     "metadata": {},
     "output_type": "execute_result"
    }
   ],
   "source": [
    "scaled_df"
   ]
  },
  {
   "cell_type": "code",
   "execution_count": 17,
   "metadata": {},
   "outputs": [],
   "source": [
    "covar_matrix = np.cov(scaled_df.T)"
   ]
  },
  {
   "cell_type": "code",
   "execution_count": 18,
   "metadata": {},
   "outputs": [
    {
     "data": {
      "text/plain": [
       "array([[ 1.00334448,  0.36145252, -0.17189118,  0.26644367, -0.10262097,\n",
       "        -0.59378092, -0.7669972 ],\n",
       "       [ 0.36145252,  1.00334448,  0.49966723,  0.82659903,  0.43056473,\n",
       "        -0.85639691,  0.07049308],\n",
       "       [-0.17189118,  0.49966723,  1.00334448,  0.79428157,  0.93644671,\n",
       "        -0.64237943,  0.76712418],\n",
       "       [ 0.26644367,  0.82659903,  0.79428157,  1.00334448,  0.8108249 ,\n",
       "        -0.90199502,  0.32756032],\n",
       "       [-0.10262097,  0.43056473,  0.93644671,  0.8108249 ,  1.00334448,\n",
       "        -0.6222505 ,  0.67420485],\n",
       "       [-0.59378092, -0.85639691, -0.64237943, -0.90199502, -0.6222505 ,\n",
       "         1.00334448, -0.02356313],\n",
       "       [-0.7669972 ,  0.07049308,  0.76712418,  0.32756032,  0.67420485,\n",
       "        -0.02356313,  1.00334448]])"
      ]
     },
     "execution_count": 18,
     "metadata": {},
     "output_type": "execute_result"
    }
   ],
   "source": [
    "covar_matrix"
   ]
  },
  {
   "cell_type": "code",
   "execution_count": 19,
   "metadata": {},
   "outputs": [],
   "source": [
    "eig_val , eig_vector = np.linalg.eig(covar_matrix)"
   ]
  },
  {
   "cell_type": "code",
   "execution_count": 20,
   "metadata": {},
   "outputs": [
    {
     "name": "stdout",
     "output_type": "stream",
     "text": [
      "[4.18573434e+00 2.29811778e+00 4.15948838e-01 9.54925358e-02\n",
      " 2.77695834e-02 3.38738483e-04 9.55061572e-06]\n"
     ]
    }
   ],
   "source": [
    "print(eig_val)"
   ]
  },
  {
   "cell_type": "code",
   "execution_count": 21,
   "metadata": {},
   "outputs": [
    {
     "name": "stdout",
     "output_type": "stream",
     "text": [
      "[[ 6.47093729e-02  6.28275866e-01 -4.21668945e-01 -2.20721584e-01\n",
      "   6.47029345e-03 -4.46449902e-01 -4.18569035e-01]\n",
      " [ 3.78760904e-01  2.69706650e-01  7.46027442e-01 -1.05931982e-02\n",
      "   3.87982788e-01  1.71520299e-04 -2.76764643e-01]\n",
      " [ 4.46665915e-01 -2.34379085e-01 -1.99308714e-01 -5.07042158e-01\n",
      "  -1.73367634e-01  5.25402868e-01 -3.77671525e-01]\n",
      " [ 4.71889526e-01  1.10990417e-01  5.62726863e-02  5.52398549e-01\n",
      "  -6.70885701e-01 -5.88609281e-02 -5.60214003e-02]\n",
      " [ 4.35702887e-01 -2.01661652e-01 -4.55168874e-01  4.46276890e-01\n",
      "   6.02614079e-01 -3.13098518e-03  5.24323817e-04]\n",
      " [-4.24913712e-01 -3.20312078e-01  5.22365058e-02  3.34339481e-01\n",
      "  -7.43689883e-03  5.08853525e-04 -7.76067911e-01]\n",
      " [ 2.44487304e-01 -5.67457559e-01  1.13315588e-01 -2.79263154e-01\n",
      "  -7.80031747e-02 -7.21913853e-01 -1.20598098e-02]]\n"
     ]
    }
   ],
   "source": [
    "print(eig_vector)"
   ]
  },
  {
   "cell_type": "code",
   "execution_count": 23,
   "metadata": {},
   "outputs": [
    {
     "name": "stdout",
     "output_type": "stream",
     "text": [
      "[[ 5.01034284e+00  5.02375538e+00  4.80543930e+00 ... -6.46432696e-01\n",
      "  -8.65078270e-01 -8.95868414e-01]\n",
      " [-2.67921532e+00 -2.52929455e+00 -2.67370033e+00 ...  5.15433604e-01\n",
      "   9.21790425e-01  7.67878473e-01]\n",
      " [-3.93268132e-02 -9.70564299e-02 -7.54750714e-02 ... -3.70378252e-01\n",
      "  -4.93755001e-01 -5.30107575e-01]\n",
      " ...\n",
      " [ 2.84015338e-01  2.15268884e-01 -3.50375561e-02 ...  4.35570456e-02\n",
      "  -2.43420521e-02 -2.64133916e-02]\n",
      " [-2.33883199e-03  2.95190997e-03  5.42367516e-03 ...  2.11048891e-03\n",
      "   1.82275203e-03  1.01749397e-04]\n",
      " [ 9.60239802e-04  1.02204030e-03  8.31756992e-04 ...  2.38808704e-04\n",
      "   1.63034757e-04  1.38425944e-04]]\n"
     ]
    }
   ],
   "source": [
    "print(eig_vector.T.dot(scaled_df.T))"
   ]
  },
  {
   "cell_type": "code",
   "execution_count": 24,
   "metadata": {},
   "outputs": [
    {
     "name": "stdout",
     "output_type": "stream",
     "text": [
      "[[-2.76963426e-01 -2.66941457e-01 -2.78933559e-01 -5.54340960e-02\n",
      "  -1.11416057e-02  8.78084364e-01 -6.03287596e-04]\n",
      " [-7.47073681e-01  5.57329479e-02  6.57845306e-01  4.06042105e-02\n",
      "   2.38137604e-02 -6.81755096e-03  6.12538275e-02]\n",
      " [-3.52016178e-01  8.09717965e-01 -4.67976440e-01  2.22252811e-02\n",
      "  -2.62446886e-02 -1.24692885e-02 -1.00622712e-02]\n",
      " [ 1.95899801e-01  2.55747087e-01  2.59802148e-01 -8.71443239e-01\n",
      "  -2.01452647e-01  1.64524607e-01  4.06780739e-02]\n",
      " [-5.94747417e-02 -8.37192422e-02 -3.57756435e-02  1.66633512e-01\n",
      "  -9.78316010e-01 -5.74696813e-02 -1.49699419e-03]]\n",
      "[4.21588540e+02 1.01820224e+02 1.68252524e+01 1.84426332e-01\n",
      " 8.37373155e-03]\n"
     ]
    }
   ],
   "source": [
    "from sklearn.decomposition import PCA\n",
    "pca = PCA(5)\n",
    "pca.fit(df)\n",
    "print(pca.components_)\n",
    "print(pca.explained_variance_)\n"
   ]
  },
  {
   "cell_type": "code",
   "execution_count": 26,
   "metadata": {},
   "outputs": [
    {
     "name": "stdout",
     "output_type": "stream",
     "text": [
      "[[-2.49517479e+01  2.68116678e+01 -1.17293285e-01 -4.86428532e-02\n",
      "  -1.74621620e-01]\n",
      " [-2.46119758e+01  2.56595634e+01 -2.98040645e-02 -3.82463969e-01\n",
      "  -1.60650599e-01]\n",
      " [-2.49384190e+01  2.69305710e+01 -1.89328212e+00 -1.65758421e-02\n",
      "   1.20678455e-02]\n",
      " ...\n",
      " [ 3.53950061e+00 -5.67059035e+00 -1.27137748e+00 -2.99805999e-01\n",
      "  -5.23924159e-02]\n",
      " [ 1.76785995e+00 -8.54653637e+00 -2.39678989e+00 -2.14442422e-01\n",
      "  -7.86958846e-03]\n",
      " [ 2.91739830e+00 -7.80284611e+00 -2.71453420e+00 -2.03416677e-01\n",
      "  -6.81704821e-03]]\n"
     ]
    }
   ],
   "source": [
    "a = pca.transform(df)\n",
    "print(a)"
   ]
  },
  {
   "cell_type": "code",
   "execution_count": null,
   "metadata": {},
   "outputs": [],
   "source": []
  }
 ],
 "metadata": {
  "kernelspec": {
   "display_name": "Python 3",
   "language": "python",
   "name": "python3"
  },
  "language_info": {
   "codemirror_mode": {
    "name": "ipython",
    "version": 3
   },
   "file_extension": ".py",
   "mimetype": "text/x-python",
   "name": "python",
   "nbconvert_exporter": "python",
   "pygments_lexer": "ipython3",
   "version": "3.7.4"
  }
 },
 "nbformat": 4,
 "nbformat_minor": 2
}
